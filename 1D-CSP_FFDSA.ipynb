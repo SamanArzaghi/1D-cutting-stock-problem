{
 "cells": [
  {
   "cell_type": "markdown",
   "id": "ed68f764",
   "metadata": {
    "ExecuteTime": {
     "end_time": "2021-12-12T15:37:27.934654Z",
     "start_time": "2021-12-12T15:37:27.913671Z"
    }
   },
   "source": [
    "# Solve 1D-CSP with SA and FFD\n",
    "***SamanArzaghi_610398096***"
   ]
  },
  {
   "cell_type": "markdown",
   "id": "72e5cfa3",
   "metadata": {},
   "source": [
    "## Import some libraries"
   ]
  },
  {
   "cell_type": "code",
   "execution_count": 1,
   "id": "6f8a98be",
   "metadata": {
    "ExecuteTime": {
     "end_time": "2021-12-12T17:45:46.911595Z",
     "start_time": "2021-12-12T17:45:44.942698Z"
    }
   },
   "outputs": [],
   "source": [
    "import random\n",
    "from math import exp\n",
    "import time\n",
    "from copy import deepcopy\n",
    "import matplotlib.image as mpimg\n",
    "import matplotlib.pyplot as plt\n",
    "import numpy as np"
   ]
  },
  {
   "cell_type": "markdown",
   "id": "88739c12",
   "metadata": {},
   "source": [
    "## Read data from file"
   ]
  },
  {
   "cell_type": "code",
   "execution_count": 2,
   "id": "f48d2615",
   "metadata": {
    "ExecuteTime": {
     "end_time": "2021-12-12T17:45:46.927594Z",
     "start_time": "2021-12-12T17:45:46.911595Z"
    }
   },
   "outputs": [],
   "source": [
    "# read from file\n",
    "def read_data(path):\n",
    "    '''\n",
    "        path : the path to the file ( type : string )\n",
    "    '''\n",
    "    file = open(path)\n",
    "    content = file.readlines()\n",
    "    return [int(s) for s in content[3].split(',')]"
   ]
  },
  {
   "cell_type": "markdown",
   "id": "ec387db7",
   "metadata": {},
   "source": [
    "## Create initial solution\n",
    "For the initial solution, we will sort the orders in reverse order and use them."
   ]
  },
  {
   "cell_type": "code",
   "execution_count": 3,
   "id": "27436cd8",
   "metadata": {
    "ExecuteTime": {
     "end_time": "2021-12-12T17:45:46.943593Z",
     "start_time": "2021-12-12T17:45:46.927594Z"
    }
   },
   "outputs": [],
   "source": [
    "# create a initial solution\n",
    "def initial_solution(path, reverse):\n",
    "    '''\n",
    "        path : the path to the file ( type : string )\n",
    "        reverse : sort first solution in reverse order ( type : boolean )\n",
    "    '''\n",
    "    # get orders from file\n",
    "    orders = read_data(path)\n",
    "    first_order = orders.copy()\n",
    "    # sort in reverse order\n",
    "    if reverse:\n",
    "        first_order.sort(reverse = True)\n",
    "    return first_order"
   ]
  },
  {
   "cell_type": "markdown",
   "id": "efc7ff54",
   "metadata": {},
   "source": [
    "## calculate VC for each stock\n",
    "It can be predicted that by considering a virtual cost\n",
    "and trying to minimize it, we will be able to obtain a\n",
    "better trim loss concentration by using a local search\n",
    "algorithm.\n",
    "\n",
    "The virtual cost which is defined for each stock is a\n",
    "variable value which has the ascending trend. It is\n",
    "possible to use the natural series of number with a\n",
    "linear-ascending trend (from 1 to M) as a virtual cost.\n",
    "\n",
    "We can calculate VC for all stocks with the below function:"
   ]
  },
  {
   "cell_type": "code",
   "execution_count": 4,
   "id": "42ffbabd",
   "metadata": {
    "ExecuteTime": {
     "end_time": "2021-12-12T17:45:46.975592Z",
     "start_time": "2021-12-12T17:45:46.943593Z"
    }
   },
   "outputs": [],
   "source": [
    "# go on for a order Arrange an order\n",
    "def calculate_VC(original_order, lenght_object):\n",
    "    '''\n",
    "        original_order : give and order ( type : list )\n",
    "        lenght_object : lenght of the original stock/object ( type : int )\n",
    "    \n",
    "    '''\n",
    "    order = original_order.copy()\n",
    "    # create a list to save VC for each stock\n",
    "    objects_map = []\n",
    "    # use all orders\n",
    "    while len(order) != 0:\n",
    "        pattern = []\n",
    "        pop_list = []\n",
    "        temp_lenght = lenght_object\n",
    "        # calculate VC for each stock\n",
    "        for i in range(len(order)):\n",
    "            if order[i] <= temp_lenght:\n",
    "                pattern.append(order[i])\n",
    "                pop_list.append(i)\n",
    "                temp_lenght -= order[i]\n",
    "        # remove used orders\n",
    "        for i in pop_list[::-1]:\n",
    "            order.pop(i)\n",
    "        virtual_cost = lenght_object - sum(pattern)\n",
    "        # save stock and its VC\n",
    "        objects_map.append([pattern, virtual_cost])\n",
    "    return objects_map"
   ]
  },
  {
   "cell_type": "markdown",
   "id": "6301f245",
   "metadata": {},
   "source": [
    "## Calculate TVC\n",
    "Finally the total virtual cost (TVC), will be computed\n",
    "as below:"
   ]
  },
  {
   "attachments": {
    "TVC.png": {
     "image/png": "[encoded data removed]"
    }
   },
   "cell_type": "markdown",
   "id": "772b13e9",
   "metadata": {},
   "source": [
    "![TVC.png](attachment:TVC.png)"
   ]
  },
  {
   "cell_type": "code",
   "execution_count": 5,
   "id": "d0f4bd68",
   "metadata": {
    "ExecuteTime": {
     "end_time": "2021-12-12T17:45:46.991593Z",
     "start_time": "2021-12-12T17:45:46.975592Z"
    }
   },
   "outputs": [],
   "source": [
    "# calculate the TVC\n",
    "def calculate_TVC(order, lenght_object):\n",
    "    '''\n",
    "        order : give and order ( type : list )\n",
    "        lenght_object : lenght of the original stock/object ( type : int )\n",
    "    \n",
    "    '''\n",
    "    # first caculate VC for each stock\n",
    "    objects_map = calculate_VC(order, lenght_object)\n",
    "    virtual_costs = [objects_map[x][1] for x in range(len(objects_map))]\n",
    "    virtual_costs.sort(reverse=True)\n",
    "    TVC = 0\n",
    "    # calculate TVC\n",
    "    for i in range(len(virtual_costs)):\n",
    "        TVC += (i+1) * virtual_costs[i]\n",
    "    return TVC"
   ]
  },
  {
   "cell_type": "markdown",
   "id": "72139094",
   "metadata": {},
   "source": [
    "## Mutation for SA\n",
    "In order to generate a neighborhood solution, a\n",
    "random state will be used. In this state, by the use of\n",
    "random selection, the item orders are changed algorithmically.\n",
    "The steps of the above algorithm are explained\n",
    "below:"
   ]
  },
  {
   "cell_type": "markdown",
   "id": "f2904038",
   "metadata": {},
   "source": [
    "Step 1. Numerate the available small items in initial\n",
    "solution from 1 to N."
   ]
  },
  {
   "cell_type": "markdown",
   "id": "a460dd23",
   "metadata": {},
   "source": [
    "Step 2. Generate a Uniform Random Number in the\n",
    "range of [2,N] (R1) which defines the number\n",
    "of displacement of items."
   ]
  },
  {
   "cell_type": "markdown",
   "id": "c8bb44d9",
   "metadata": {},
   "source": [
    "Step 3. Generate R1 uniform random numbers in the\n",
    "range of [1,N] (R(i): i=1,…, N) which defines\n",
    "the displaced items number."
   ]
  },
  {
   "cell_type": "markdown",
   "id": "d5084164",
   "metadata": {},
   "source": [
    "Step 4. If the i th and (i +1)th item have the same\n",
    "length, avoid displacement, otherwise, displace\n",
    "the th i and th (i +1) items."
   ]
  },
  {
   "cell_type": "code",
   "execution_count": 6,
   "id": "e2800384",
   "metadata": {
    "ExecuteTime": {
     "end_time": "2021-12-12T17:45:47.023593Z",
     "start_time": "2021-12-12T17:45:46.991593Z"
    }
   },
   "outputs": [],
   "source": [
    "# mutation for simulated annealing\n",
    "def mutation(original_order):\n",
    "    '''\n",
    "            original_order : give and order ( type : list )\n",
    "    '''\n",
    "    copy_order = original_order.copy()\n",
    "    # choose randomly how many order to change\n",
    "    num_changes = random.randint(2,len(copy_order))\n",
    "    # choose randomly the orders\n",
    "    random_gens = random.sample(range(0,len(copy_order)), num_changes)\n",
    "    # change the orders with next order if they are not the same\n",
    "    for i in random_gens:\n",
    "        try:\n",
    "            if copy_order[i] != copy_order[i + 1]:\n",
    "                copy_order[i], copy_order[i + 1] = copy_order[i + 1], copy_order[i]\n",
    "        except:\n",
    "            if copy_order[i] != copy_order[0]:\n",
    "                copy_order[i], copy_order[0] = copy_order[0], copy_order[i]\n",
    "    return copy_order"
   ]
  },
  {
   "cell_type": "markdown",
   "id": "63f8f01b",
   "metadata": {},
   "source": [
    "## Combine FFD + SA\n",
    "All the algorithm we did before is called FFD, now we can combine it with SA.\n",
    "\n",
    "After determining the neighborhood solution, the\n",
    "amount of Boltzman function will be computed as\n",
    "below."
   ]
  },
  {
   "attachments": {
    "boltzman.png": {
     "image/png": "[encoded data removed]"
    }
   },
   "cell_type": "markdown",
   "id": "7bb7c540",
   "metadata": {},
   "source": [
    "![boltzman.png](attachment:boltzman.png)"
   ]
  },
  {
   "cell_type": "markdown",
   "id": "7072e80d",
   "metadata": {},
   "source": [
    "So, the steps of the algorithm are shown below:"
   ]
  },
  {
   "cell_type": "markdown",
   "id": "70ebe717",
   "metadata": {},
   "source": [
    "Step 1. Generate an initial solution."
   ]
  },
  {
   "cell_type": "markdown",
   "id": "00393e24",
   "metadata": {
    "ExecuteTime": {
     "end_time": "2021-12-12T16:34:24.273235Z",
     "start_time": "2021-12-12T16:34:24.253285Z"
    }
   },
   "source": [
    "Step 2. Calculate the TVC for the initial solution."
   ]
  },
  {
   "cell_type": "markdown",
   "id": "925ce05f",
   "metadata": {},
   "source": [
    "Step 3. Generate a neighborhood for initial solution\n",
    "and calculate the 1 TVC for that."
   ]
  },
  {
   "cell_type": "markdown",
   "id": "26329a02",
   "metadata": {},
   "source": [
    "Step 4. Let D = TVC −TVC\n",
    "1 ."
   ]
  },
  {
   "cell_type": "markdown",
   "id": "0221bd85",
   "metadata": {},
   "source": [
    "Step 5. If D < 0 , then 1 TVC = TVC ,go to Step 3.\n",
    "Else, 1 TVC = TVC with the Boltzman probability."
   ]
  },
  {
   "cell_type": "code",
   "execution_count": 7,
   "id": "34b0af7b",
   "metadata": {
    "ExecuteTime": {
     "end_time": "2021-12-12T17:45:57.752559Z",
     "start_time": "2021-12-12T17:45:57.728559Z"
    }
   },
   "outputs": [],
   "source": [
    "# combine all + sa\n",
    "def CSP_FFDSA(path, epoch, temperature, cooling_coefitiont, lenght_object, reverse):\n",
    "    '''\n",
    "        path : the path to the file ( type : string )\n",
    "        epoch : number of iteretion to run the algorithn ( type : int )\n",
    "        temperature : the initial temperature for simulated annealing ( type : int )\n",
    "        cooling_coefitiont : the coefitiont for cooling the temperature ( type : float )\n",
    "        lenght_object : the original lenght of the stock/object ( type : int )\n",
    "        reverse : sort first solution in reverse order ( type : boolean )\n",
    "    '''\n",
    "    start = time.time()\n",
    "    # save all answers\n",
    "    global all_answers\n",
    "    all_answers = []\n",
    "    t = temperature\n",
    "    cc = cooling_coefitiont\n",
    "    first_solution = initial_solution(path, reverse)\n",
    "    for i in range(epoch):\n",
    "        t *= cc\n",
    "        # calculate the TVC of first solution\n",
    "        first_TVC = calculate_TVC(first_solution, lenght_object)\n",
    "        # calculate the second answer\n",
    "        second_solution = mutation(first_solution)\n",
    "        # calculate the TVC of second answer\n",
    "        second_TVC = calculate_TVC(second_solution, lenght_object)\n",
    "        # calculate the delta\n",
    "        D = second_TVC - first_TVC\n",
    "        if D < 0 or random.uniform(0, 1) < exp(-D / t):\n",
    "            first_solution = second_solution\n",
    "            # save all solution and its TVC and VC\n",
    "        map_object = calculate_VC(first_solution, lenght_object)\n",
    "        all_answers.append([map_object, len(map_object)])\n",
    "        print(f\"stock we use: {all_answers[-1][-1]}\")\n",
    "    # in the following code we will convert list of stocks to a single order list *IGNORE IT IF YOU WANT*\n",
    "    a = all_answers[-1]\n",
    "    a = a[0]\n",
    "    b = [a[x][0] for x in range(len(a))]\n",
    "    flat_list = [item for sublist in b for item in sublist]\n",
    "    # print runtime and final answer and its cost\n",
    "    print(\"Runtime in second:\", time.time() - start)\n",
    "    print(f\"stock we use: {all_answers[-1][-1]}\")\n",
    "    print(flat_list)"
   ]
  },
  {
   "cell_type": "markdown",
   "id": "4dcb3cb7",
   "metadata": {},
   "source": [
    "## Input1"
   ]
  },
  {
   "cell_type": "code",
   "execution_count": 8,
   "id": "3436f1a2",
   "metadata": {
    "ExecuteTime": {
     "end_time": "2021-12-12T17:20:23.250698Z",
     "start_time": "2021-12-12T17:20:23.141208Z"
    }
   },
   "outputs": [
    {
     "name": "stdout",
     "output_type": "stream",
     "text": [
      "Runtime in second: 0.09075927734375\n",
      "stock we use: 49\n",
      "[987, 988, 933, 61, 967, 33, 914, 86, 868, 126, 788, 187, 23, 788, 211, 805, 181, 753, 241, 716, 284, 753, 246, 689, 306, 686, 312, 678, 315, 662, 337, 672, 312, 660, 333, 653, 346, 648, 351, 627, 371, 632, 368, 609, 370, 18, 618, 365, 592, 405, 581, 414, 557, 441, 557, 437, 557, 424, 544, 412, 43, 555, 409, 532, 463, 518, 457, 549, 402, 46, 525, 460, 515, 354, 125, 517, 356, 125, 507, 295, 186, 506, 301, 180, 495, 501, 292, 286, 286, 135, 283, 280, 268, 148, 266, 266, 278, 171, 264, 251, 249, 232, 248, 230, 218, 224, 80, 170, 149, 149, 149, 145, 144, 92, 123, 119, 118, 115, 117, 109, 116, 107, 75, 106, 106, 106, 99, 106, 92, 88, 88, 84, 78, 45, 79, 71, 69, 60, 70, 53]\n"
     ]
    }
   ],
   "source": [
    "CSP_FFDSA(path='input1.stock', epoch=100, temperature=1, cooling_coefitiont=0.7, lenght_object=1000, reverse=True)"
   ]
  },
  {
   "cell_type": "markdown",
   "id": "06e2746a",
   "metadata": {
    "ExecuteTime": {
     "end_time": "2021-12-12T16:40:09.885244Z",
     "start_time": "2021-12-12T16:40:09.872094Z"
    }
   },
   "source": [
    "## Input2"
   ]
  },
  {
   "cell_type": "code",
   "execution_count": 9,
   "id": "4b449548",
   "metadata": {
    "ExecuteTime": {
     "end_time": "2021-12-12T17:20:23.440613Z",
     "start_time": "2021-12-12T17:20:23.252715Z"
    }
   },
   "outputs": [
    {
     "name": "stdout",
     "output_type": "stream",
     "text": [
      "Runtime in second: 0.1735224723815918\n",
      "stock we use: 78\n",
      "[2150, 1520, 1880, 1520, 1820, 2150, 2050, 2150, 1380, 1710, 2140, 1380, 2140, 1820, 1520, 2150, 2140, 2150, 1820, 1560, 2050, 1880, 1380, 2100, 1880, 1560, 1710, 1880, 1930, 2050, 2150, 1380, 2140, 1710, 1710, 1820, 2000, 1710, 2150, 1880, 1520, 1930, 2000, 1560, 1930, 2050, 1520, 1820, 2200, 1560, 1930, 1710, 1930, 2050, 2050, 1380, 2100, 1520, 1520, 2000, 2150, 1380, 2000, 2140, 1380, 1880, 2200, 1520, 1560, 2140, 1880, 2050, 1930, 1520, 2000, 2200, 1380, 1930, 1710, 1520, 1710, 2150, 1710, 1820, 2200, 1520, 2100, 2200, 1820, 1880, 1880, 1820, 2140, 1380, 2100, 1930, 1380, 1820, 1880, 1880, 2140, 2050, 1380, 1880, 2000, 1560, 2140, 2150, 2150, 1820, 1520, 1820, 2140, 1560, 2140, 1710, 1710, 2200, 2200, 1880, 2200, 1520, 1930, 2200, 1380, 1820, 2100, 1520, 2100, 2140, 2140, 2050, 1380, 2140, 2200, 2100, 1880, 1380, 1820, 1820, 1930, 2150, 2140, 2100, 2150, 1710, 1380, 2200, 1560, 1520, 1930, 1380, 1380, 1820, 2050, 1930, 1520, 2140, 1880, 1560, 2150, 1880, 1520, 1710, 1520, 2100, 1560, 1710, 1930, 2000, 2200, 1380, 2150, 1930, 1520, 1820, 1560, 2150, 2200, 2100, 1880, 2000, 1560, 2100, 1820, 1380, 2200, 1930, 1380, 1880, 2100, 1520, 2000, 2000, 1520, 1930, 2200, 1380, 2100, 2050, 1380, 2200, 2200, 2050, 2100, 1930, 1520, 1520, 1820, 1520, 2200, 2150, 1930, 1520, 1930, 2150, 2200, 2200, 1930]\n"
     ]
    }
   ],
   "source": [
    "CSP_FFDSA(path='input2.stock', epoch=100, temperature=100, cooling_coefitiont=0.8, lenght_object=5600, reverse=False)"
   ]
  },
  {
   "cell_type": "markdown",
   "id": "5447d2f3",
   "metadata": {
    "ExecuteTime": {
     "end_time": "2021-12-12T16:48:36.444171Z",
     "start_time": "2021-12-12T16:48:36.427961Z"
    }
   },
   "source": [
    "## Input3"
   ]
  },
  {
   "cell_type": "code",
   "execution_count": 10,
   "id": "d8693f40",
   "metadata": {
    "ExecuteTime": {
     "end_time": "2021-12-12T17:20:23.993240Z",
     "start_time": "2021-12-12T17:20:23.444603Z"
    }
   },
   "outputs": [
    {
     "name": "stdout",
     "output_type": "stream",
     "text": [
      "Runtime in second: 0.5386703014373779\n",
      "stock we use: 92\n",
      "[405, 90, 5, 479, 21, 361, 134, 5, 458, 41, 1, 403, 96, 1, 433, 67, 421, 72, 7, 470, 27, 3, 411, 87, 2, 369, 128, 3, 430, 68, 2, 364, 133, 3, 386, 111, 3, 331, 169, 343, 153, 4, 360, 138, 2, 339, 159, 2, 321, 178, 1, 359, 139, 2, 335, 161, 4, 419, 75, 6, 315, 183, 2, 314, 186, 299, 199, 2, 399, 98, 3, 350, 147, 3, 318, 172, 10, 314, 174, 12, 280, 209, 11, 313, 187, 313, 184, 3, 314, 174, 12, 275, 225, 311, 189, 319, 170, 11, 298, 196, 6, 314, 169, 17, 264, 214, 22, 290, 209, 1, 277, 213, 10, 282, 201, 17, 265, 234, 1, 288, 205, 7, 274, 225, 1, 279, 198, 23, 271, 229, 275, 224, 1, 263, 234, 3, 263, 228, 9, 264, 224, 12, 281, 204, 14, 1, 245, 251, 4, 260, 239, 1, 245, 255, 243, 243, 14, 271, 227, 2, 243, 250, 7, 245, 244, 11, 255, 240, 5, 237, 204, 50, 9, 191, 188, 116, 5, 170, 170, 152, 8, 180, 166, 154, 167, 197, 133, 3, 163, 178, 156, 3, 167, 167, 162, 4, 160, 158, 165, 17, 152, 152, 157, 36, 3, 159, 152, 153, 32, 4, 152, 147, 151, 49, 1, 150, 144, 147, 52, 7, 138, 134, 138, 86, 4, 132, 135, 124, 108, 1, 134, 144, 134, 88, 126, 131, 120, 116, 7, 124, 125, 130, 115, 6, 118, 124, 112, 108, 38, 111, 102, 110, 102, 66, 9, 109, 106, 98, 92, 92, 3, 91, 93, 97, 89, 87, 40, 3, 92, 85, 87, 99, 86, 49, 2, 92, 86, 76, 76, 79, 68, 23, 78, 74, 54, 61, 41, 45, 66, 43, 26, 12, 49, 59, 39, 34, 43, 38, 24, 34, 28, 37, 34, 27, 29, 25, 35, 24, 24, 27, 26, 23, 24, 24, 21, 26, 25, 18, 19, 21, 23, 21, 19, 19, 19, 21, 21, 18, 2, 21, 20, 18, 21, 18, 19, 18, 18, 17, 18, 18, 16, 16, 16, 18, 16, 17, 17, 16, 16, 17, 17, 16, 16, 16, 16, 15, 15, 17, 1, 15, 15, 15, 15, 14, 14, 14, 15, 14, 14, 14, 15, 14, 14, 13, 14, 14, 13, 13, 14, 13, 14, 14, 13, 13, 13, 14, 13, 13, 13, 13, 13, 12, 13, 12, 12, 9, 12, 12, 12, 12, 12, 12, 12, 12, 11, 11, 11, 11, 12, 11, 11, 11, 11, 11, 11, 11, 11, 11, 10, 10, 10, 11, 10, 10, 10, 10, 10, 11, 11, 10, 11, 10, 10, 10, 10, 10, 10, 10, 9, 9, 9, 9, 9, 9, 9, 9, 9, 9, 9, 9, 9, 9, 9, 9, 9, 9, 9, 9, 9, 9, 9, 9, 9, 9, 9, 9, 9, 9, 9, 9, 9, 8, 8, 9, 8, 8, 8, 8, 8, 8, 9, 8, 8, 8, 8, 8, 8, 8, 8, 8, 8, 8, 8, 8, 8, 8, 8, 8, 8, 8, 8, 6, 8, 8, 8, 8, 8, 7, 7, 7, 7, 7, 7, 7, 7, 7, 7, 7, 7, 7, 7, 7, 7, 7, 7, 7, 7, 7, 7, 7, 7, 7, 7, 7, 7, 7, 7, 7, 7, 7, 7, 7, 7, 7, 7, 7, 6, 7, 6, 6, 6, 6, 6, 6, 6, 6, 6, 6, 6, 6, 6, 6, 6, 6, 6, 6, 6, 6, 6, 6, 6, 6, 6, 6, 6, 6, 6, 6, 6, 6, 6, 6, 6, 6, 6, 6, 6, 6, 5, 5, 5, 5, 5, 5, 6, 5, 5, 5, 5, 5, 5, 5, 5, 5, 5, 5, 5, 5, 5, 5, 5, 5, 5, 5, 5, 5, 5, 5, 5, 5, 5, 5, 5, 5, 5, 5, 5, 5, 5, 5, 5, 5, 5, 4, 4, 4, 4, 4, 4, 5, 4, 4, 4, 4, 4, 4, 4, 4, 4, 4, 4, 4, 4, 4, 4, 4, 4, 4, 4, 4, 4, 4, 4, 4, 4, 4, 4, 4, 4, 4, 4, 4, 4, 4, 4, 4, 3, 3, 3, 3, 3, 3, 3, 3, 3, 3, 3, 2, 3, 3, 3, 3, 3, 3, 3, 3, 3, 3, 3, 3, 3, 3, 3, 3, 3, 3, 3, 3, 3, 3, 3, 3, 3, 3, 3, 3, 3, 3, 3, 3, 3, 3, 3, 3, 3, 3, 2, 2, 2, 2, 2, 2, 2, 2, 2, 2, 2, 2, 2, 2, 2, 2, 2, 2, 2, 2, 2, 2, 2, 2, 2, 2, 2, 2, 2, 2, 2, 2, 2, 2, 2, 2, 2, 2, 2, 2, 2, 2, 2, 2, 2, 2, 2, 2, 2, 2, 2, 2, 2, 2, 2, 2, 2, 2, 2, 2, 2, 2, 1, 1, 1, 1, 1, 1, 1, 1, 1, 1, 1, 1, 1, 1, 1, 1, 1, 1, 1, 1, 1, 1, 1, 1, 1, 1, 1, 1, 1, 1, 1, 1, 1, 1, 1, 1, 1, 1, 1, 1, 1, 1, 1, 1, 1, 1, 1, 1, 1, 1, 1, 1, 1, 1, 1, 1, 1, 1, 1, 1, 1, 1, 1, 1, 1, 1, 1, 1, 1, 1, 1, 1]\n"
     ]
    }
   ],
   "source": [
    "CSP_FFDSA(path='input3.stock', epoch=50, temperature=100, cooling_coefitiont=0.9, lenght_object=500, reverse=True)"
   ]
  },
  {
   "cell_type": "markdown",
   "id": "0cc81846",
   "metadata": {
    "ExecuteTime": {
     "end_time": "2021-12-12T16:48:13.576390Z",
     "start_time": "2021-12-12T16:48:13.565428Z"
    }
   },
   "source": [
    "## Input4"
   ]
  },
  {
   "cell_type": "code",
   "execution_count": 11,
   "id": "0808e5a9",
   "metadata": {
    "ExecuteTime": {
     "end_time": "2021-12-12T17:20:24.499097Z",
     "start_time": "2021-12-12T17:20:23.995245Z"
    }
   },
   "outputs": [
    {
     "name": "stdout",
     "output_type": "stream",
     "text": [
      "Runtime in second: 0.48569655418395996\n",
      "stock we use: 205\n",
      "[93, 1, 6, 93, 7, 89, 11, 92, 8, 90, 10, 91, 9, 80, 20, 95, 5, 91, 9, 92, 8, 99, 1, 88, 12, 87, 13, 98, 2, 87, 13, 80, 20, 89, 11, 78, 22, 89, 11, 79, 21, 84, 16, 80, 20, 81, 19, 76, 24, 79, 21, 80, 20, 73, 27, 74, 26, 78, 22, 81, 19, 82, 18, 74, 26, 74, 26, 75, 25, 74, 26, 69, 31, 71, 29, 74, 26, 73, 27, 68, 32, 73, 27, 72, 28, 71, 29, 71, 29, 66, 34, 72, 28, 68, 32, 69, 31, 72, 28, 66, 34, 67, 33, 73, 27, 70, 30, 66, 34, 67, 33, 68, 32, 67, 33, 67, 33, 65, 35, 67, 33, 68, 32, 63, 37, 65, 35, 65, 35, 62, 38, 61, 38, 1, 65, 35, 61, 38, 1, 66, 34, 61, 39, 62, 38, 60, 40, 62, 38, 59, 41, 61, 39, 63, 37, 59, 40, 1, 59, 41, 57, 43, 60, 40, 58, 42, 59, 39, 2, 56, 44, 58, 39, 3, 57, 43, 56, 44, 58, 38, 4, 58, 38, 4, 59, 37, 4, 56, 44, 56, 44, 56, 44, 52, 48, 52, 48, 56, 44, 54, 46, 54, 46, 54, 46, 54, 46, 55, 45, 56, 44, 52, 47, 1, 51, 47, 2, 52, 48, 55, 45, 51, 47, 2, 50, 50, 52, 47, 1, 54, 46, 51, 47, 2, 54, 45, 1, 51, 47, 2, 50, 50, 51, 48, 1, 51, 47, 2, 53, 47, 50, 47, 3, 51, 47, 2, 51, 47, 2, 47, 46, 7, 46, 45, 9, 46, 44, 10, 43, 43, 14, 43, 43, 14, 43, 39, 18, 37, 37, 26, 37, 38, 25, 36, 38, 26, 37, 36, 27, 36, 37, 27, 36, 36, 28, 36, 37, 27, 36, 36, 28, 35, 35, 30, 35, 34, 31, 34, 34, 32, 34, 34, 32, 34, 34, 32, 33, 33, 33, 1, 33, 33, 33, 1, 32, 32, 31, 5, 32, 31, 31, 6, 31, 31, 30, 8, 30, 30, 30, 10, 30, 31, 30, 9, 30, 29, 29, 12, 29, 28, 28, 15, 27, 27, 27, 19, 27, 26, 26, 21, 25, 25, 26, 24, 26, 25, 26, 23, 25, 25, 24, 24, 2, 24, 24, 24, 25, 3, 24, 25, 24, 24, 3, 24, 23, 24, 23, 6, 23, 24, 23, 24, 6, 23, 22, 23, 23, 9, 23, 22, 22, 22, 11, 22, 22, 22, 22, 12, 22, 23, 22, 21, 12, 22, 22, 21, 21, 14, 22, 21, 21, 21, 15, 21, 21, 21, 21, 16, 21, 21, 21, 20, 17, 20, 20, 20, 21, 19, 20, 20, 20, 20, 20, 20, 20, 20, 20, 20, 20, 20, 20, 20, 19, 1, 19, 19, 19, 19, 18, 6, 18, 18, 19, 18, 19, 8, 18, 18, 18, 18, 18, 10, 18, 18, 18, 17, 18, 11, 18, 18, 18, 17, 18, 11, 17, 18, 18, 18, 17, 12, 17, 17, 17, 17, 17, 15, 16, 16, 17, 16, 16, 16, 3, 16, 16, 16, 16, 16, 16, 4, 16, 16, 16, 16, 16, 16, 4, 15, 15, 15, 15, 15, 15, 10, 16, 15, 15, 15, 15, 15, 9, 15, 15, 15, 15, 14, 15, 11, 14, 14, 14, 14, 14, 14, 14, 2, 14, 15, 14, 14, 14, 14, 14, 1, 13, 14, 13, 14, 13, 13, 13, 7, 13, 14, 13, 13, 13, 13, 13, 8, 13, 13, 13, 13, 13, 13, 13, 9, 13, 12, 12, 12, 12, 12, 12, 12, 3, 12, 12, 12, 12, 12, 12, 12, 12, 4, 11, 11, 11, 11, 11, 11, 11, 11, 10, 2, 10, 10, 10, 10, 10, 10, 10, 10, 10, 10, 10, 10, 10, 10, 10, 10, 10, 9, 9, 9, 3, 9, 9, 9, 9, 9, 9, 9, 9, 9, 9, 9, 1, 9, 9, 9, 9, 8, 9, 8, 8, 8, 8, 8, 7, 8, 8, 8, 8, 8, 8, 8, 8, 8, 8, 8, 8, 4, 7, 8, 8, 7, 7, 7, 7, 7, 7, 7, 7, 8, 7, 6, 7, 7, 7, 7, 7, 7, 7, 7, 7, 7, 7, 7, 7, 7, 2, 7, 7, 7, 7, 6, 6, 6, 6, 6, 6, 6, 6, 6, 6, 6, 6, 6, 6, 6, 6, 6, 6, 6, 6, 6, 6, 6, 6, 6, 6, 6, 6, 4, 6, 6, 6, 6, 6, 5, 5, 5, 6, 6, 5, 5, 5, 5, 5, 5, 5, 5, 3, 5, 6, 5, 5, 5, 5, 5, 5, 5, 5, 5, 5, 5, 5, 5, 5, 5, 5, 5, 4, 5, 5, 5, 5, 5, 5, 5, 5, 5, 5, 5, 5, 5, 5, 5, 5, 4, 4, 4, 4, 4, 4, 4, 4, 4, 4, 4, 4, 4, 4, 4, 4, 4, 4, 4, 4, 4, 4, 4, 4, 4, 4, 4, 4, 4, 4, 4, 4, 4, 4, 3, 3, 3, 3, 3, 3, 3, 3, 3, 3, 3, 3, 3, 3, 3, 3, 3, 3, 3, 3, 3, 3, 3, 3, 3, 3, 3, 3, 3, 3, 3, 3, 3, 2, 2, 2, 2, 2, 2, 2, 2, 2, 2, 2, 2, 2, 2, 2, 2, 2, 2, 2, 2, 2, 2, 2, 2, 2, 2, 2, 2, 2, 2, 2, 1, 1, 1, 1, 1, 1, 1, 1, 1, 1, 1, 1, 1, 1, 1, 1, 1, 1, 1, 1, 98]\n"
     ]
    }
   ],
   "source": [
    "CSP_FFDSA(path='input4.stock', epoch=20, temperature=1000, cooling_coefitiont=0.9, lenght_object=100, reverse=True)"
   ]
  },
  {
   "cell_type": "markdown",
   "id": "4c11d035",
   "metadata": {},
   "source": [
    "## Input5"
   ]
  },
  {
   "cell_type": "code",
   "execution_count": 9,
   "id": "42a05d57",
   "metadata": {
    "ExecuteTime": {
     "end_time": "2021-12-12T17:48:52.088905Z",
     "start_time": "2021-12-12T17:47:30.399142Z"
    }
   },
   "outputs": [
    {
     "name": "stdout",
     "output_type": "stream",
     "text": [
      "stock we use: 3849\n",
      "stock we use: 3849\n",
      "stock we use: 3849\n"
     ]
    },
    {
     "ename": "KeyboardInterrupt",
     "evalue": "",
     "output_type": "error",
     "traceback": [
      "\u001b[1;31m---------------------------------------------------------------------------\u001b[0m",
      "\u001b[1;31mKeyboardInterrupt\u001b[0m                         Traceback (most recent call last)",
      "\u001b[1;32m~\\AppData\\Local\\Temp/ipykernel_11704/418966165.py\u001b[0m in \u001b[0;36m<module>\u001b[1;34m\u001b[0m\n\u001b[1;32m----> 1\u001b[1;33m \u001b[0mCSP_FFDSA\u001b[0m\u001b[1;33m(\u001b[0m\u001b[0mpath\u001b[0m\u001b[1;33m=\u001b[0m\u001b[1;34m'input5.stock'\u001b[0m\u001b[1;33m,\u001b[0m \u001b[0mepoch\u001b[0m\u001b[1;33m=\u001b[0m\u001b[1;36m100\u001b[0m\u001b[1;33m,\u001b[0m \u001b[0mtemperature\u001b[0m\u001b[1;33m=\u001b[0m\u001b[1;36m1000\u001b[0m\u001b[1;33m,\u001b[0m \u001b[0mcooling_coefitiont\u001b[0m\u001b[1;33m=\u001b[0m\u001b[1;36m0.99\u001b[0m\u001b[1;33m,\u001b[0m \u001b[0mlenght_object\u001b[0m\u001b[1;33m=\u001b[0m\u001b[1;36m681\u001b[0m\u001b[1;33m,\u001b[0m \u001b[0mreverse\u001b[0m\u001b[1;33m=\u001b[0m\u001b[1;32mFalse\u001b[0m\u001b[1;33m)\u001b[0m\u001b[1;33m\u001b[0m\u001b[1;33m\u001b[0m\u001b[0m\n\u001b[0m",
      "\u001b[1;32m~\\AppData\\Local\\Temp/ipykernel_11704/3028078876.py\u001b[0m in \u001b[0;36mCSP_FFDSA\u001b[1;34m(path, epoch, temperature, cooling_coefitiont, lenght_object, reverse)\u001b[0m\n\u001b[0;32m     23\u001b[0m         \u001b[0msecond_solution\u001b[0m \u001b[1;33m=\u001b[0m \u001b[0mmutation\u001b[0m\u001b[1;33m(\u001b[0m\u001b[0mfirst_solution\u001b[0m\u001b[1;33m)\u001b[0m\u001b[1;33m\u001b[0m\u001b[1;33m\u001b[0m\u001b[0m\n\u001b[0;32m     24\u001b[0m         \u001b[1;31m# calculate the TVC of second answer\u001b[0m\u001b[1;33m\u001b[0m\u001b[1;33m\u001b[0m\u001b[1;33m\u001b[0m\u001b[0m\n\u001b[1;32m---> 25\u001b[1;33m         \u001b[0msecond_TVC\u001b[0m \u001b[1;33m=\u001b[0m \u001b[0mcalculate_TVC\u001b[0m\u001b[1;33m(\u001b[0m\u001b[0msecond_solution\u001b[0m\u001b[1;33m,\u001b[0m \u001b[0mlenght_object\u001b[0m\u001b[1;33m)\u001b[0m\u001b[1;33m\u001b[0m\u001b[1;33m\u001b[0m\u001b[0m\n\u001b[0m\u001b[0;32m     26\u001b[0m         \u001b[1;31m# calculate the delta\u001b[0m\u001b[1;33m\u001b[0m\u001b[1;33m\u001b[0m\u001b[1;33m\u001b[0m\u001b[0m\n\u001b[0;32m     27\u001b[0m         \u001b[0mD\u001b[0m \u001b[1;33m=\u001b[0m \u001b[0msecond_TVC\u001b[0m \u001b[1;33m-\u001b[0m \u001b[0mfirst_TVC\u001b[0m\u001b[1;33m\u001b[0m\u001b[1;33m\u001b[0m\u001b[0m\n",
      "\u001b[1;32m~\\AppData\\Local\\Temp/ipykernel_11704/2825714815.py\u001b[0m in \u001b[0;36mcalculate_TVC\u001b[1;34m(order, lenght_object)\u001b[0m\n\u001b[0;32m      7\u001b[0m     '''\n\u001b[0;32m      8\u001b[0m     \u001b[1;31m# first caculate VC for each stock\u001b[0m\u001b[1;33m\u001b[0m\u001b[1;33m\u001b[0m\u001b[1;33m\u001b[0m\u001b[0m\n\u001b[1;32m----> 9\u001b[1;33m     \u001b[0mobjects_map\u001b[0m \u001b[1;33m=\u001b[0m \u001b[0mcalculate_VC\u001b[0m\u001b[1;33m(\u001b[0m\u001b[0morder\u001b[0m\u001b[1;33m,\u001b[0m \u001b[0mlenght_object\u001b[0m\u001b[1;33m)\u001b[0m\u001b[1;33m\u001b[0m\u001b[1;33m\u001b[0m\u001b[0m\n\u001b[0m\u001b[0;32m     10\u001b[0m     \u001b[0mvirtual_costs\u001b[0m \u001b[1;33m=\u001b[0m \u001b[1;33m[\u001b[0m\u001b[0mobjects_map\u001b[0m\u001b[1;33m[\u001b[0m\u001b[0mx\u001b[0m\u001b[1;33m]\u001b[0m\u001b[1;33m[\u001b[0m\u001b[1;36m1\u001b[0m\u001b[1;33m]\u001b[0m \u001b[1;32mfor\u001b[0m \u001b[0mx\u001b[0m \u001b[1;32min\u001b[0m \u001b[0mrange\u001b[0m\u001b[1;33m(\u001b[0m\u001b[0mlen\u001b[0m\u001b[1;33m(\u001b[0m\u001b[0mobjects_map\u001b[0m\u001b[1;33m)\u001b[0m\u001b[1;33m)\u001b[0m\u001b[1;33m]\u001b[0m\u001b[1;33m\u001b[0m\u001b[1;33m\u001b[0m\u001b[0m\n\u001b[0;32m     11\u001b[0m     \u001b[0mvirtual_costs\u001b[0m\u001b[1;33m.\u001b[0m\u001b[0msort\u001b[0m\u001b[1;33m(\u001b[0m\u001b[0mreverse\u001b[0m\u001b[1;33m=\u001b[0m\u001b[1;32mTrue\u001b[0m\u001b[1;33m)\u001b[0m\u001b[1;33m\u001b[0m\u001b[1;33m\u001b[0m\u001b[0m\n",
      "\u001b[1;32m~\\AppData\\Local\\Temp/ipykernel_11704/1917190919.py\u001b[0m in \u001b[0;36mcalculate_VC\u001b[1;34m(original_order, lenght_object)\u001b[0m\n\u001b[0;32m     16\u001b[0m         \u001b[1;31m# calculate VC for each stock\u001b[0m\u001b[1;33m\u001b[0m\u001b[1;33m\u001b[0m\u001b[1;33m\u001b[0m\u001b[0m\n\u001b[0;32m     17\u001b[0m         \u001b[1;32mfor\u001b[0m \u001b[0mi\u001b[0m \u001b[1;32min\u001b[0m \u001b[0mrange\u001b[0m\u001b[1;33m(\u001b[0m\u001b[0mlen\u001b[0m\u001b[1;33m(\u001b[0m\u001b[0morder\u001b[0m\u001b[1;33m)\u001b[0m\u001b[1;33m)\u001b[0m\u001b[1;33m:\u001b[0m\u001b[1;33m\u001b[0m\u001b[1;33m\u001b[0m\u001b[0m\n\u001b[1;32m---> 18\u001b[1;33m             \u001b[1;32mif\u001b[0m \u001b[0morder\u001b[0m\u001b[1;33m[\u001b[0m\u001b[0mi\u001b[0m\u001b[1;33m]\u001b[0m \u001b[1;33m<=\u001b[0m \u001b[0mtemp_lenght\u001b[0m\u001b[1;33m:\u001b[0m\u001b[1;33m\u001b[0m\u001b[1;33m\u001b[0m\u001b[0m\n\u001b[0m\u001b[0;32m     19\u001b[0m                 \u001b[0mpattern\u001b[0m\u001b[1;33m.\u001b[0m\u001b[0mappend\u001b[0m\u001b[1;33m(\u001b[0m\u001b[0morder\u001b[0m\u001b[1;33m[\u001b[0m\u001b[0mi\u001b[0m\u001b[1;33m]\u001b[0m\u001b[1;33m)\u001b[0m\u001b[1;33m\u001b[0m\u001b[1;33m\u001b[0m\u001b[0m\n\u001b[0;32m     20\u001b[0m                 \u001b[0mpop_list\u001b[0m\u001b[1;33m.\u001b[0m\u001b[0mappend\u001b[0m\u001b[1;33m(\u001b[0m\u001b[0mi\u001b[0m\u001b[1;33m)\u001b[0m\u001b[1;33m\u001b[0m\u001b[1;33m\u001b[0m\u001b[0m\n",
      "\u001b[1;31mKeyboardInterrupt\u001b[0m: "
     ]
    }
   ],
   "source": [
    "CSP_FFDSA(path='input5.stock', epoch=100, temperature=1000, cooling_coefitiont=0.99, lenght_object=681, reverse=False)"
   ]
  },
  {
   "cell_type": "code",
   "execution_count": null,
   "id": "c5fc73a1",
   "metadata": {},
   "outputs": [],
   "source": []
  }
 ],
 "metadata": {
  "kernelspec": {
   "display_name": "Python 3 (ipykernel)",
   "language": "python",
   "name": "python3"
  },
  "language_info": {
   "codemirror_mode": {
    "name": "ipython",
    "version": 3
   },
   "file_extension": ".py",
   "mimetype": "text/x-python",
   "name": "python",
   "nbconvert_exporter": "python",
   "pygments_lexer": "ipython3",
   "version": "3.8.9"
  },
  "varInspector": {
   "cols": {
    "lenName": 16,
    "lenType": 16,
    "lenVar": 40
   },
   "kernels_config": {
    "python": {
     "delete_cmd_postfix": "",
     "delete_cmd_prefix": "del ",
     "library": "var_list.py",
     "varRefreshCmd": "print(var_dic_list())"
    },
    "r": {
     "delete_cmd_postfix": ") ",
     "delete_cmd_prefix": "rm(",
     "library": "var_list.r",
     "varRefreshCmd": "cat(var_dic_list()) "
    }
   },
   "types_to_exclude": [
    "module",
    "function",
    "builtin_function_or_method",
    "instance",
    "_Feature"
   ],
   "window_display": false
  }
 },
 "nbformat": 4,
 "nbformat_minor": 5
}
